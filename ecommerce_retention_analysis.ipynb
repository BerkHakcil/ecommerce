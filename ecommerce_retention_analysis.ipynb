{
 "cells": [
  {
   "cell_type": "markdown",
   "id": "66b7f5b3",
   "metadata": {},
   "source": [
    "\n",
    "# 📈 E-commerce Sales Dashboard & Retention Analysis\n",
    "\n",
    "This project analyzes open-source e-commerce transaction data to uncover trends in customer purchase behavior, retention, and product performance. Tools used: **SQL (via SQLite), Python (Pandas, Seaborn)**, and **Power BI** for visualization.\n",
    "\n",
    "**Goals:**\n",
    "- Segment customers by lifecycle stage (new vs. repeat)\n",
    "- Analyze retention and customer value\n",
    "- Visualize trends in sales and product performance\n",
    "\n",
    "**Dataset**: [`Online Retail Dataset`](https://archive.ics.uci.edu/ml/datasets/Online+Retail)\n"
   ]
  },
  {
   "cell_type": "code",
   "execution_count": null,
   "id": "2fee12df",
   "metadata": {},
   "outputs": [],
   "source": [
    "\n",
    "import pandas as pd\n",
    "import seaborn as sns\n",
    "import matplotlib.pyplot as plt\n",
    "import datetime as dt\n",
    "sns.set(style='whitegrid')\n"
   ]
  },
  {
   "cell_type": "code",
   "execution_count": null,
   "id": "6a27ed7d",
   "metadata": {},
   "outputs": [],
   "source": [
    "\n",
    "# Download the dataset first manually from the UCI ML repo or Kaggle\n",
    "# Expected file: 'OnlineRetail.csv'\n",
    "df = pd.read_excel('OnlineRetail.xlsx')\n",
    "df.head()\n"
   ]
  },
  {
   "cell_type": "code",
   "execution_count": null,
   "id": "6e8debb5",
   "metadata": {},
   "outputs": [],
   "source": [
    "\n",
    "# Remove rows with missing CustomerID and filter out cancellations\n",
    "df.dropna(subset=['CustomerID'], inplace=True)\n",
    "df = df[df['Quantity'] > 0]\n",
    "df = df[df['UnitPrice'] > 0]\n",
    "df['TotalPrice'] = df['Quantity'] * df['UnitPrice']\n",
    "df['InvoiceDate'] = pd.to_datetime(df['InvoiceDate'])\n",
    "df['CustomerID'] = df['CustomerID'].astype(str)\n",
    "df.head()\n"
   ]
  },
  {
   "cell_type": "code",
   "execution_count": null,
   "id": "077be181",
   "metadata": {},
   "outputs": [],
   "source": [
    "\n",
    "df['InvoiceMonth'] = df['InvoiceDate'].dt.to_period('M')\n",
    "monthly_revenue = df.groupby('InvoiceMonth')['TotalPrice'].sum().reset_index()\n",
    "monthly_revenue['InvoiceMonth'] = monthly_revenue['InvoiceMonth'].astype(str)\n",
    "\n",
    "plt.figure(figsize=(12,5))\n",
    "sns.lineplot(data=monthly_revenue, x='InvoiceMonth', y='TotalPrice', marker='o')\n",
    "plt.title(\"Monthly Revenue Trend\")\n",
    "plt.xticks(rotation=45)\n",
    "plt.tight_layout()\n",
    "plt.show()\n"
   ]
  },
  {
   "cell_type": "code",
   "execution_count": null,
   "id": "ed6f3374",
   "metadata": {},
   "outputs": [],
   "source": [
    "\n",
    "min_purchase = df.groupby('CustomerID')['InvoiceDate'].min().reset_index()\n",
    "min_purchase.columns = ['CustomerID', 'FirstPurchaseDate']\n",
    "df = df.merge(min_purchase, on='CustomerID')\n",
    "\n",
    "df['UserType'] = df.apply(lambda row: 'New' if row['InvoiceDate'] == row['FirstPurchaseDate'] else 'Returning', axis=1)\n",
    "\n",
    "user_segmentation = df.groupby(['InvoiceMonth', 'UserType'])['CustomerID'].nunique().reset_index()\n",
    "user_segmentation['InvoiceMonth'] = user_segmentation['InvoiceMonth'].astype(str)\n",
    "\n",
    "plt.figure(figsize=(12,5))\n",
    "sns.barplot(data=user_segmentation, x='InvoiceMonth', y='CustomerID', hue='UserType')\n",
    "plt.title(\"New vs Returning Customers by Month\")\n",
    "plt.xticks(rotation=45)\n",
    "plt.tight_layout()\n",
    "plt.show()\n"
   ]
  },
  {
   "cell_type": "code",
   "execution_count": null,
   "id": "78c52167",
   "metadata": {},
   "outputs": [],
   "source": [
    "\n",
    "df['CohortMonth'] = df.groupby('CustomerID')['InvoiceDate'].transform('min').dt.to_period('M')\n",
    "df['InvoiceMonth'] = df['InvoiceDate'].dt.to_period('M')\n",
    "\n",
    "def get_month_diff(d1, d2):\n",
    "    return (d1.year - d2.year) * 12 + d1.month - d2.month\n",
    "\n",
    "df['CohortIndex'] = df.apply(lambda row: get_month_diff(row['InvoiceDate'], row['CohortMonth'].to_timestamp()), axis=1)\n",
    "\n",
    "cohort_data = df.groupby(['CohortMonth', 'CohortIndex'])['CustomerID'].nunique().reset_index()\n",
    "cohort_counts = cohort_data.pivot(index='CohortMonth', columns='CohortIndex', values='CustomerID')\n",
    "\n",
    "cohort_sizes = cohort_counts.iloc[:,0]\n",
    "retention = cohort_counts.divide(cohort_sizes, axis=0)\n",
    "\n",
    "plt.figure(figsize=(12, 6))\n",
    "sns.heatmap(retention, annot=True, fmt='.0%', cmap='Blues')\n",
    "plt.title('Cohort Analysis - Retention Rates')\n",
    "plt.ylabel('Cohort Month')\n",
    "plt.xlabel('Months Since First Purchase')\n",
    "plt.tight_layout()\n",
    "plt.show()\n"
   ]
  }
 ],
 "metadata": {},
 "nbformat": 4,
 "nbformat_minor": 5
}
